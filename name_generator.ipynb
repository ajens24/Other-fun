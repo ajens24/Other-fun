{
 "cells": [
  {
   "cell_type": "code",
   "execution_count": 4,
   "metadata": {},
   "outputs": [],
   "source": [
    "# Silly name generator and Pylint\n",
    "\n",
    "import sys\n",
    "import random\n",
    "\n",
    "def name_generator():\n",
    "    \"\"\"Choose names at random from a pair of tuples and print to screen.\"\"\"\n",
    "    print('Welcome to the name generator')\n",
    "    \n",
    "    first = ('Baby Oil', 'Bad news', 'Big burps', \"Bill 'Bennie-Weeine'\", \"Bob 'Stinkbug'\",\n",
    "            'Bowl Noises', 'Boxelder', \"Bud 'Lite'\", 'Butterbean', 'Buttermilk',\n",
    "            'Buttocks', 'Chad', 'Chesterfield', 'Chewy', 'Chigger', 'Cinnabuns',\n",
    "            'Cleet', 'Cornbread', 'Crabmeat', 'Figgs', 'Lil Debby', 'Oil-Can'\n",
    "            'Rock Candy', 'Schlomo', 'Scut', 'Skidmarks', \"Winston 'Jaz Hands'\")\n",
    "    \n",
    "    last = ('Appleyard', 'Bigmeat', 'Boogerbottom', 'Butterbaugh', 'Clovenhoof',\n",
    "           'Clutterbuck', 'Cocktoasten', 'Gooberdapple', 'Guster', 'Henderson',\n",
    "           'Hooperbag', 'Goodpasture', 'Jefferson', 'Jensen', 'Kingfish', 'Listenbee',\n",
    "           'McFadden', 'Moonshine', 'Noseworthy', 'overtuft', 'Overpeck', 'Pealike', 'Rainwater',\n",
    "           'Pinkerton', 'Putney', 'Quakenbush', 'Sackrider', 'Stevens', 'Weiners', 'Woolysocks')\n",
    "    \n",
    "    while True:\n",
    "        first_name = random.choice(first)\n",
    "        las_name = random.choice(last)\n",
    "        \n",
    "        print(f'{firstname} {lastname}', file=sys.stderr)\n",
    "        \n",
    "        try_again= input(f\"\\nTry again? (Press Enter else 'n' to quit)\\n\")\n",
    "        \n",
    "        if try_again.lower() == 'n':\n",
    "            break \n",
    "            \n",
    "if __name__ == '__name_generator__':\n",
    "    name_generator()"
   ]
  },
  {
   "cell_type": "code",
   "execution_count": null,
   "metadata": {},
   "outputs": [],
   "source": []
  }
 ],
 "metadata": {
  "kernelspec": {
   "display_name": "Python 3 (ipykernel)",
   "language": "python",
   "name": "python3"
  },
  "language_info": {
   "codemirror_mode": {
    "name": "ipython",
    "version": 3
   },
   "file_extension": ".py",
   "mimetype": "text/x-python",
   "name": "python",
   "nbconvert_exporter": "python",
   "pygments_lexer": "ipython3",
   "version": "3.7.4"
  }
 },
 "nbformat": 4,
 "nbformat_minor": 2
}
