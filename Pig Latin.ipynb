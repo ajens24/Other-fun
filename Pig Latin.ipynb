{
 "cells": [
  {
   "cell_type": "code",
   "execution_count": null,
   "id": "bbe7652c",
   "metadata": {},
   "outputs": [],
   "source": [
    "# Pig Latin\n",
    "import sys\n",
    "vowels= 'aeiouy'\n",
    "\n",
    "while True:\n",
    "    word= input(\"Enter a phrase to be translated to Pig Latin: \")\n",
    "    \n",
    "    if word[0] in vowels:\n",
    "        pig_latin= word + 'way'\n",
    "    \n",
    "    else:\n",
    "        pig_latin= word[1:] + word[0] + 'ay'\n",
    "\n",
    "    print(f'{pig_latin}')\n",
    "\n",
    "    try_again= input(\"Would you like to try again? (Enter 'n' to quit)\")\n",
    "    if try_again.lower() == 'n':\n",
    "        break  "
   ]
  }
 ],
 "metadata": {
  "kernelspec": {
   "display_name": "Python 3 (ipykernel)",
   "language": "python",
   "name": "python3"
  },
  "language_info": {
   "codemirror_mode": {
    "name": "ipython",
    "version": 3
   },
   "file_extension": ".py",
   "mimetype": "text/x-python",
   "name": "python",
   "nbconvert_exporter": "python",
   "pygments_lexer": "ipython3",
   "version": "3.7.4"
  }
 },
 "nbformat": 4,
 "nbformat_minor": 5
}
