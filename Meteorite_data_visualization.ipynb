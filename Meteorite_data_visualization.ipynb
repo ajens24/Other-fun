{
 "cells": [
  {
   "cell_type": "code",
   "execution_count": 1,
   "metadata": {},
   "outputs": [
    {
     "name": "stdout",
     "output_type": "stream",
     "text": [
      "['place', 'type_of_meteorite', 'mass_g', 'fell_found', 'year', 'database', 'coordinate_1', 'coordinates_2', 'cartodb_id', 'created_at', 'updated_at', 'the_geom', 'year_date']\n",
      "   mass_g  coordinate_1  coordinates_2\n",
      "0    0.00      30.90000       46.01667\n",
      "1  836.87     -72.00000       26.00000\n",
      "2  376.00      49.41667       21.70000\n",
      "3  341.27     -72.00000       26.00000\n",
      "4  296.96     -72.00000       26.00000\n",
      "34513\n",
      "34513\n",
      "34513\n"
     ]
    },
    {
     "data": {
      "text/plain": [
       "'meteoritessize.html'"
      ]
     },
     "execution_count": 1,
     "metadata": {},
     "output_type": "execute_result"
    }
   ],
   "source": [
    "import import_ipynb\n",
    "import json\n",
    "import csv\n",
    "import pandas as pd\n",
    "from plotly.graph_objs import Scattergeo, Layout\n",
    "from plotly import offline\n",
    "\n",
    "with open('C:\\\\Users\\\\ajens\\\\Downloads\\\\meteoritessize.csv', 'r') as f:\n",
    "    reader = csv.DictReader(f, delimiter=',')\n",
    "    fieldnames = reader.fieldnames\n",
    "\n",
    "print(fieldnames)\n",
    "data= pd.read_csv(\"C:\\\\Users\\\\ajens\\\\Downloads\\\\meteoritessize.csv\", na_values=['.'],\\\n",
    "                  usecols= [2,6,7], skiprows =0)\n",
    "\n",
    "print(data.head())\n",
    "\n",
    "\n",
    "# Extracting data\n",
    "size, lons, lats= [], [], []\n",
    "for i in data['mass_g']:\n",
    "    size.append(i)\n",
    "for h in data['coordinate_1']:\n",
    "    lons.append(h)\n",
    "for t in data['coordinates_2']:\n",
    "    lats.append(t)\n",
    "\n",
    "# Make sure all lists have the same length\n",
    "print(len(size))\n",
    "print(len(lons))\n",
    "print(len(lats))\n",
    "\n",
    "# Map the locations of meteorites\n",
    "data= [{\n",
    "    'type': 'scattergeo',\n",
    "    'lon': lats,\n",
    "    'lat': lons,\n",
    "    'marker': {\n",
    "        'size': [.000003*i for i in size],\n",
    "        'color': 'burlywood',\n",
    "        'colorscale': 'Viridis',\n",
    "        'reversescale': True,\n",
    "        'colorbar':{'title': 'Size'},\n",
    "    },\n",
    "}]\n",
    "my_layout= Layout(title='Size of Meteorite')\n",
    "\n",
    "fig= {'data': data, 'layout': my_layout}\n",
    "offline.plot(fig, filename= 'meteoritessize.html')"
   ]
  },
  {
   "cell_type": "code",
   "execution_count": null,
   "metadata": {},
   "outputs": [],
   "source": []
  }
 ],
 "metadata": {
  "kernelspec": {
   "display_name": "Python 3 (ipykernel)",
   "language": "python",
   "name": "python3"
  },
  "language_info": {
   "codemirror_mode": {
    "name": "ipython",
    "version": 3
   },
   "file_extension": ".py",
   "mimetype": "text/x-python",
   "name": "python",
   "nbconvert_exporter": "python",
   "pygments_lexer": "ipython3",
   "version": "3.7.4"
  }
 },
 "nbformat": 4,
 "nbformat_minor": 2
}
